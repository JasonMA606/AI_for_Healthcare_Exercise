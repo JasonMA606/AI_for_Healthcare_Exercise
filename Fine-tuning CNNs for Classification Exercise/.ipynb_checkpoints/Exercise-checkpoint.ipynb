{
 "cells": [
  {
   "cell_type": "code",
   "execution_count": 1,
   "metadata": {},
   "outputs": [
    {
     "name": "stderr",
     "output_type": "stream",
     "text": [
      "Using TensorFlow backend.\n"
     ]
    }
   ],
   "source": [
    "import numpy as np \n",
    "import pandas as pd \n",
    "import os\n",
    "from glob import glob\n",
    "%matplotlib inline\n",
    "import matplotlib.pyplot as plt\n",
    "import tensorflow as tf\n",
    "from skimage import io\n",
    "\n",
    "from keras.preprocessing.image import ImageDataGenerator\n",
    "from keras.layers import GlobalAveragePooling2D, Dense, Dropout, Flatten, Conv2D, MaxPooling2D\n",
    "from keras.models import Sequential, Model\n",
    "from keras.applications.vgg16 import VGG16\n",
    "from keras.applications.resnet import ResNet50 \n",
    "from keras.optimizers import Adam\n",
    "from keras.callbacks import ModelCheckpoint, LearningRateScheduler, EarlyStopping, ReduceLROnPlateau"
   ]
  },
  {
   "cell_type": "code",
   "execution_count": 2,
   "metadata": {},
   "outputs": [],
   "source": [
    "train_df = pd.read_csv('train.csv')\n",
    "valid_df = pd.read_csv('test.csv')"
   ]
  },
  {
   "cell_type": "code",
   "execution_count": 3,
   "metadata": {},
   "outputs": [
    {
     "data": {
      "text/html": [
       "<div>\n",
       "<style scoped>\n",
       "    .dataframe tbody tr th:only-of-type {\n",
       "        vertical-align: middle;\n",
       "    }\n",
       "\n",
       "    .dataframe tbody tr th {\n",
       "        vertical-align: top;\n",
       "    }\n",
       "\n",
       "    .dataframe thead th {\n",
       "        text-align: right;\n",
       "    }\n",
       "</style>\n",
       "<table border=\"1\" class=\"dataframe\">\n",
       "  <thead>\n",
       "    <tr style=\"text-align: right;\">\n",
       "      <th></th>\n",
       "      <th>img_path</th>\n",
       "      <th>class</th>\n",
       "    </tr>\n",
       "  </thead>\n",
       "  <tbody>\n",
       "    <tr>\n",
       "      <th>0</th>\n",
       "      <td>mdb003.pgm.png</td>\n",
       "      <td>dense</td>\n",
       "    </tr>\n",
       "    <tr>\n",
       "      <th>1</th>\n",
       "      <td>mdb004.pgm.png</td>\n",
       "      <td>dense</td>\n",
       "    </tr>\n",
       "    <tr>\n",
       "      <th>2</th>\n",
       "      <td>mdb033.pgm.png</td>\n",
       "      <td>dense</td>\n",
       "    </tr>\n",
       "    <tr>\n",
       "      <th>3</th>\n",
       "      <td>mdb034.pgm.png</td>\n",
       "      <td>dense</td>\n",
       "    </tr>\n",
       "    <tr>\n",
       "      <th>4</th>\n",
       "      <td>mdb035.pgm.png</td>\n",
       "      <td>dense</td>\n",
       "    </tr>\n",
       "  </tbody>\n",
       "</table>\n",
       "</div>"
      ],
      "text/plain": [
       "         img_path  class\n",
       "0  mdb003.pgm.png  dense\n",
       "1  mdb004.pgm.png  dense\n",
       "2  mdb033.pgm.png  dense\n",
       "3  mdb034.pgm.png  dense\n",
       "4  mdb035.pgm.png  dense"
      ]
     },
     "execution_count": 3,
     "metadata": {},
     "output_type": "execute_result"
    }
   ],
   "source": [
    "train_df.head()"
   ]
  },
  {
   "cell_type": "markdown",
   "metadata": {},
   "source": [
    "## Setting up the image augmentation from last Lesson: \n",
    "Note that this section of the code has been pre-written for you and does not need to be changed, just run. If you would like to change the ImageDataGenerator parameters, feel free."
   ]
  },
  {
   "cell_type": "code",
   "execution_count": 4,
   "metadata": {},
   "outputs": [],
   "source": [
    "## This is the image size that VGG16 takes as input\n",
    "IMG_SIZE = (224, 224)"
   ]
  },
  {
   "cell_type": "code",
   "execution_count": 5,
   "metadata": {},
   "outputs": [
    {
     "name": "stdout",
     "output_type": "stream",
     "text": [
      "Found 20 validated image filenames belonging to 2 classes.\n",
      "Found 6 validated image filenames belonging to 2 classes.\n"
     ]
    }
   ],
   "source": [
    "train_idg = ImageDataGenerator(rescale=1. / 255.0,\n",
    "                              horizontal_flip = True, \n",
    "                              vertical_flip = False, \n",
    "                              height_shift_range= 0.1, \n",
    "                              width_shift_range=0.1, \n",
    "                              rotation_range=20, \n",
    "                              shear_range = 0.1,\n",
    "                              zoom_range=0.1)\n",
    "raw_dir = 'data_raw'\n",
    "train_gen = train_idg.flow_from_dataframe(dataframe=train_df, \n",
    "                                         directory=raw_dir, \n",
    "                                         x_col = 'img_path',\n",
    "                                         y_col = 'class',\n",
    "                                         class_mode = 'binary',\n",
    "                                         target_size = IMG_SIZE, \n",
    "                                         batch_size = 9\n",
    "                                         )\n",
    "\n",
    "# Note that the validation data should not be augmented! We only want to do some basic intensity rescaling here\n",
    "val_idg = ImageDataGenerator(rescale=1. / 255.0\n",
    "                                 )\n",
    "\n",
    "val_gen = val_idg.flow_from_dataframe(dataframe=valid_df, \n",
    "                                         directory=raw_dir, \n",
    "                                         x_col = 'img_path',\n",
    "                                         y_col = 'class',\n",
    "                                         class_mode = 'binary',\n",
    "                                         target_size = IMG_SIZE, \n",
    "                                         batch_size = 6) ## We've only been provided with 6 validation images"
   ]
  },
  {
   "cell_type": "code",
   "execution_count": 6,
   "metadata": {},
   "outputs": [],
   "source": [
    "## Pull a single large batch of random validation data for testing after each epoch\n",
    "testX, testY = val_gen.next()"
   ]
  },
  {
   "cell_type": "markdown",
   "metadata": {},
   "source": [
    "## Now we'll load in VGG16 with pre-trained ImageNet weights: "
   ]
  },
  {
   "cell_type": "code",
   "execution_count": 7,
   "metadata": {},
   "outputs": [
    {
     "name": "stdout",
     "output_type": "stream",
     "text": [
      "Downloading data from https://github.com/fchollet/deep-learning-models/releases/download/v0.1/vgg16_weights_tf_dim_ordering_tf_kernels.h5\n",
      "553467904/553467096 [==============================] - 7s 0us/step\n",
      "Model: \"vgg16\"\n",
      "_________________________________________________________________\n",
      "Layer (type)                 Output Shape              Param #   \n",
      "=================================================================\n",
      "input_1 (InputLayer)         (None, 224, 224, 3)       0         \n",
      "_________________________________________________________________\n",
      "block1_conv1 (Conv2D)        (None, 224, 224, 64)      1792      \n",
      "_________________________________________________________________\n",
      "block1_conv2 (Conv2D)        (None, 224, 224, 64)      36928     \n",
      "_________________________________________________________________\n",
      "block1_pool (MaxPooling2D)   (None, 112, 112, 64)      0         \n",
      "_________________________________________________________________\n",
      "block2_conv1 (Conv2D)        (None, 112, 112, 128)     73856     \n",
      "_________________________________________________________________\n",
      "block2_conv2 (Conv2D)        (None, 112, 112, 128)     147584    \n",
      "_________________________________________________________________\n",
      "block2_pool (MaxPooling2D)   (None, 56, 56, 128)       0         \n",
      "_________________________________________________________________\n",
      "block3_conv1 (Conv2D)        (None, 56, 56, 256)       295168    \n",
      "_________________________________________________________________\n",
      "block3_conv2 (Conv2D)        (None, 56, 56, 256)       590080    \n",
      "_________________________________________________________________\n",
      "block3_conv3 (Conv2D)        (None, 56, 56, 256)       590080    \n",
      "_________________________________________________________________\n",
      "block3_pool (MaxPooling2D)   (None, 28, 28, 256)       0         \n",
      "_________________________________________________________________\n",
      "block4_conv1 (Conv2D)        (None, 28, 28, 512)       1180160   \n",
      "_________________________________________________________________\n",
      "block4_conv2 (Conv2D)        (None, 28, 28, 512)       2359808   \n",
      "_________________________________________________________________\n",
      "block4_conv3 (Conv2D)        (None, 28, 28, 512)       2359808   \n",
      "_________________________________________________________________\n",
      "block4_pool (MaxPooling2D)   (None, 14, 14, 512)       0         \n",
      "_________________________________________________________________\n",
      "block5_conv1 (Conv2D)        (None, 14, 14, 512)       2359808   \n",
      "_________________________________________________________________\n",
      "block5_conv2 (Conv2D)        (None, 14, 14, 512)       2359808   \n",
      "_________________________________________________________________\n",
      "block5_conv3 (Conv2D)        (None, 14, 14, 512)       2359808   \n",
      "_________________________________________________________________\n",
      "block5_pool (MaxPooling2D)   (None, 7, 7, 512)         0         \n",
      "_________________________________________________________________\n",
      "flatten (Flatten)            (None, 25088)             0         \n",
      "_________________________________________________________________\n",
      "fc1 (Dense)                  (None, 4096)              102764544 \n",
      "_________________________________________________________________\n",
      "fc2 (Dense)                  (None, 4096)              16781312  \n",
      "_________________________________________________________________\n",
      "predictions (Dense)          (None, 1000)              4097000   \n",
      "=================================================================\n",
      "Total params: 138,357,544\n",
      "Trainable params: 138,357,544\n",
      "Non-trainable params: 0\n",
      "_________________________________________________________________\n"
     ]
    }
   ],
   "source": [
    "model = VGG16(include_top=True, weights='imagenet')\n",
    "model.summary()"
   ]
  },
  {
   "cell_type": "code",
   "execution_count": 8,
   "metadata": {},
   "outputs": [],
   "source": [
    "transfer_layer = model.get_layer('block5_pool')\n",
    "vgg_model = Model(inputs=model.input,\n",
    "                   outputs=transfer_layer.output)"
   ]
  },
  {
   "cell_type": "code",
   "execution_count": 9,
   "metadata": {},
   "outputs": [
    {
     "name": "stdout",
     "output_type": "stream",
     "text": [
      "input_1 False\n",
      "block1_conv1 True\n",
      "block1_conv2 True\n",
      "block1_pool True\n",
      "block2_conv1 True\n",
      "block2_conv2 True\n",
      "block2_pool True\n",
      "block3_conv1 True\n",
      "block3_conv2 True\n",
      "block3_conv3 True\n",
      "block3_pool True\n",
      "block4_conv1 True\n",
      "block4_conv2 True\n",
      "block4_conv3 True\n",
      "block4_pool True\n",
      "block5_conv1 True\n",
      "block5_conv2 True\n",
      "block5_conv3 True\n",
      "block5_pool True\n"
     ]
    }
   ],
   "source": [
    "# check before modify\n",
    "for layer in vgg_model.layers:\n",
    "    print(layer.name, layer.trainable)"
   ]
  },
  {
   "cell_type": "code",
   "execution_count": 11,
   "metadata": {},
   "outputs": [],
   "source": [
    "## Now, choose which layers of VGG16 we actually want to fine-tune\n",
    "## Here, we'll freeze all but the last convolutional layer\n",
    "## Add some code here to freeze all but the last convolutional layer:\n",
    "##### Your code here ######\n",
    "for layer in vgg_model.layers[:17]:\n",
    "    layer.trainable = False"
   ]
  },
  {
   "cell_type": "code",
   "execution_count": 12,
   "metadata": {},
   "outputs": [
    {
     "name": "stdout",
     "output_type": "stream",
     "text": [
      "input_1 False\n",
      "block1_conv1 False\n",
      "block1_conv2 False\n",
      "block1_pool False\n",
      "block2_conv1 False\n",
      "block2_conv2 False\n",
      "block2_pool False\n",
      "block3_conv1 False\n",
      "block3_conv2 False\n",
      "block3_conv3 False\n",
      "block3_pool False\n",
      "block4_conv1 False\n",
      "block4_conv2 False\n",
      "block4_conv3 False\n",
      "block4_pool False\n",
      "block5_conv1 False\n",
      "block5_conv2 False\n",
      "block5_conv3 True\n",
      "block5_pool True\n"
     ]
    }
   ],
   "source": [
    "## Check to make sure you froze the right ones: \n",
    "for layer in vgg_model.layers:\n",
    "    print(layer.name, layer.trainable)"
   ]
  },
  {
   "cell_type": "markdown",
   "metadata": {},
   "source": [
    "## Build a simple sequential model using only the VGG16 architecture\n",
    "Note the code in the cell below has been pre-written for you, you only need to run it"
   ]
  },
  {
   "cell_type": "code",
   "execution_count": 13,
   "metadata": {},
   "outputs": [],
   "source": [
    "## Build your model using the mostly-frozen VGG16 architecture: \n",
    "new_model = Sequential()\n",
    "\n",
    "# Add the convolutional part of the VGG16 model from above.\n",
    "new_model.add(vgg_model)\n",
    "\n",
    "# Flatten the output of the VGG16 model because it is from a\n",
    "# convolutional layer.\n",
    "new_model.add(Flatten())\n",
    "\n",
    "# Add a dense (aka. fully-connected) layer.\n",
    "# This is for combining features that the VGG16 model has\n",
    "# recognized in the image.\n",
    "new_model.add(Dense(1, activation='relu'))"
   ]
  },
  {
   "cell_type": "code",
   "execution_count": 14,
   "metadata": {},
   "outputs": [],
   "source": [
    "## Set our optimizer, loss function, and learning rate (you can change the learning rate here if you'd like)\n",
    "## but otherwise this cell can be run as is\n",
    "optimizer = Adam(lr=1e-4)\n",
    "loss = 'binary_crossentropy'\n",
    "metrics = ['binary_accuracy']"
   ]
  },
  {
   "cell_type": "code",
   "execution_count": 15,
   "metadata": {},
   "outputs": [],
   "source": [
    "new_model.compile(optimizer=optimizer, loss=loss, metrics=metrics)"
   ]
  },
  {
   "cell_type": "code",
   "execution_count": 16,
   "metadata": {},
   "outputs": [
    {
     "name": "stdout",
     "output_type": "stream",
     "text": [
      "Epoch 1/5\n",
      "3/3 [==============================] - 17s 6s/step - loss: 3.2953 - binary_accuracy: 0.5500 - val_loss: 7.7125 - val_binary_accuracy: 0.5000\n",
      "Epoch 2/5\n",
      "3/3 [==============================] - 15s 5s/step - loss: 2.3473 - binary_accuracy: 0.7500 - val_loss: 5.4212 - val_binary_accuracy: 0.5000\n",
      "Epoch 3/5\n",
      "3/3 [==============================] - 15s 5s/step - loss: 3.6614 - binary_accuracy: 0.2500 - val_loss: 0.6583 - val_binary_accuracy: 0.6667\n",
      "Epoch 4/5\n",
      "3/3 [==============================] - 15s 5s/step - loss: 2.3173 - binary_accuracy: 0.2500 - val_loss: 0.6719 - val_binary_accuracy: 0.8333\n",
      "Epoch 5/5\n",
      "3/3 [==============================] - 15s 5s/step - loss: 1.1266 - binary_accuracy: 0.6000 - val_loss: 3.2530 - val_binary_accuracy: 0.5000\n"
     ]
    },
    {
     "data": {
      "text/plain": [
       "<keras.callbacks.callbacks.History at 0x7f7a55458f10>"
      ]
     },
     "execution_count": 16,
     "metadata": {},
     "output_type": "execute_result"
    }
   ],
   "source": [
    "## Just run a single epoch to see how it does:\n",
    "new_model.fit_generator(train_gen, \n",
    "                                  validation_data = (testX, testY), \n",
    "                                  epochs = 5)"
   ]
  },
  {
   "cell_type": "code",
   "execution_count": 17,
   "metadata": {},
   "outputs": [
    {
     "name": "stdout",
     "output_type": "stream",
     "text": [
      "Model: \"sequential_1\"\n",
      "_________________________________________________________________\n",
      "Layer (type)                 Output Shape              Param #   \n",
      "=================================================================\n",
      "model_1 (Model)              (None, 7, 7, 512)         14714688  \n",
      "_________________________________________________________________\n",
      "flatten_1 (Flatten)          (None, 25088)             0         \n",
      "_________________________________________________________________\n",
      "dense_1 (Dense)              (None, 1)                 25089     \n",
      "=================================================================\n",
      "Total params: 14,739,777\n",
      "Trainable params: 2,384,897\n",
      "Non-trainable params: 12,354,880\n",
      "_________________________________________________________________\n"
     ]
    }
   ],
   "source": [
    "new_model.summary()"
   ]
  },
  {
   "cell_type": "markdown",
   "metadata": {},
   "source": [
    "## Let's try another experiment where we add a few more dense layers:"
   ]
  },
  {
   "cell_type": "code",
   "execution_count": 22,
   "metadata": {},
   "outputs": [],
   "source": [
    "new_model = Sequential()\n",
    "\n",
    "# Add the convolutional part of the VGG16 model from above.\n",
    "new_model.add(vgg_model)\n",
    "\n",
    "# Flatten the output of the VGG16 model because it is from a\n",
    "# convolutional layer.\n",
    "new_model.add(Flatten())\n",
    "\n",
    "# Add a couple of dense (aka. fully-connected) layers.\n",
    "# This is for combining features that the VGG16 model has\n",
    "# recognized in the image.\n",
    "\n",
    "##### Your code here ######\n",
    "new_model.add(Dense(1024, activation='relu'))\n",
    "new_model.add(Dense(512, activation='relu'))\n",
    "\n",
    "# Final output layer:\n",
    "new_model.add(Dense(1, activation='relu'))"
   ]
  },
  {
   "cell_type": "code",
   "execution_count": 23,
   "metadata": {},
   "outputs": [],
   "source": [
    "new_model.compile(optimizer=optimizer, loss=loss, metrics=metrics)"
   ]
  },
  {
   "cell_type": "code",
   "execution_count": 24,
   "metadata": {},
   "outputs": [
    {
     "name": "stdout",
     "output_type": "stream",
     "text": [
      "Epoch 1/5\n",
      "3/3 [==============================] - 19s 6s/step - loss: 2.1524 - binary_accuracy: 0.4000 - val_loss: 7.6246 - val_binary_accuracy: 0.0000e+00\n",
      "Epoch 2/5\n",
      "3/3 [==============================] - 18s 6s/step - loss: 7.6666 - binary_accuracy: 0.0000e+00 - val_loss: 7.6246 - val_binary_accuracy: 0.0000e+00\n",
      "Epoch 3/5\n",
      "3/3 [==============================] - 19s 6s/step - loss: 6.1759 - binary_accuracy: 0.0000e+00 - val_loss: 7.6246 - val_binary_accuracy: 0.0000e+00\n",
      "Epoch 4/5\n",
      "3/3 [==============================] - 18s 6s/step - loss: 6.1759 - binary_accuracy: 0.0000e+00 - val_loss: 7.6246 - val_binary_accuracy: 0.0000e+00\n",
      "Epoch 5/5\n",
      "3/3 [==============================] - 18s 6s/step - loss: 7.6666 - binary_accuracy: 0.0000e+00 - val_loss: 7.6246 - val_binary_accuracy: 0.0000e+00\n"
     ]
    },
    {
     "data": {
      "text/plain": [
       "<keras.callbacks.callbacks.History at 0x7f7a4a545f90>"
      ]
     },
     "execution_count": 24,
     "metadata": {},
     "output_type": "execute_result"
    }
   ],
   "source": [
    "## Just run a single epoch to see how it does:\n",
    "new_model.fit_generator(train_gen, \n",
    "                                  validation_data = (testX, testY), \n",
    "                                  epochs = 5)"
   ]
  },
  {
   "cell_type": "markdown",
   "metadata": {},
   "source": [
    "## Now let's add dropout and another fully connected layer:"
   ]
  },
  {
   "cell_type": "code",
   "execution_count": 32,
   "metadata": {},
   "outputs": [],
   "source": [
    "new_model = Sequential()\n",
    "\n",
    "# Add the convolutional part of the VGG16 model from above.\n",
    "new_model.add(vgg_model)\n",
    "\n",
    "# Flatten the output of the VGG16 model because it is from a\n",
    "# convolutional layer.\n",
    "new_model.add(Flatten())\n",
    "\n",
    "# Add several fully-connected layers with dropout\n",
    "##### Your code here ######\n",
    "new_model.add(Dropout(0.5))\n",
    "new_model.add(Dense(1024, activation='relu'))\n",
    "new_model.add(Dropout(0.5))\n",
    "new_model.add(Dense(512, activation='relu'))\n",
    "new_model.add(Dropout(0.5))\n",
    "\n",
    "# Final output layer\n",
    "new_model.add(Dense(1, activation='sigmoid'))"
   ]
  },
  {
   "cell_type": "code",
   "execution_count": 33,
   "metadata": {},
   "outputs": [],
   "source": [
    "new_model.compile(optimizer=optimizer, loss=loss, metrics=metrics)"
   ]
  },
  {
   "cell_type": "code",
   "execution_count": 34,
   "metadata": {},
   "outputs": [
    {
     "name": "stdout",
     "output_type": "stream",
     "text": [
      "Epoch 1/5\n",
      "3/3 [==============================] - 20s 7s/step - loss: 0.7834 - binary_accuracy: 0.4000 - val_loss: 0.6560 - val_binary_accuracy: 0.6667\n",
      "Epoch 2/5\n",
      "3/3 [==============================] - 19s 6s/step - loss: 1.2129 - binary_accuracy: 0.3500 - val_loss: 0.6942 - val_binary_accuracy: 0.5000\n",
      "Epoch 3/5\n",
      "3/3 [==============================] - 19s 6s/step - loss: 1.1557 - binary_accuracy: 0.4500 - val_loss: 0.8811 - val_binary_accuracy: 0.5000\n",
      "Epoch 4/5\n",
      "3/3 [==============================] - 19s 6s/step - loss: 1.5015 - binary_accuracy: 0.4500 - val_loss: 0.6591 - val_binary_accuracy: 0.3333\n",
      "Epoch 5/5\n",
      "3/3 [==============================] - 19s 6s/step - loss: 0.5320 - binary_accuracy: 0.7000 - val_loss: 0.7044 - val_binary_accuracy: 0.5000\n"
     ]
    },
    {
     "data": {
      "text/plain": [
       "<keras.callbacks.callbacks.History at 0x7f7a49e0fcd0>"
      ]
     },
     "execution_count": 34,
     "metadata": {},
     "output_type": "execute_result"
    }
   ],
   "source": [
    "## Just run a single epoch to see how it does:\n",
    "new_model.fit_generator(train_gen, \n",
    "                                  validation_data = (testX, testY), \n",
    "                                  epochs = 5)"
   ]
  },
  {
   "cell_type": "markdown",
   "metadata": {},
   "source": [
    "## Try again"
   ]
  },
  {
   "cell_type": "code",
   "execution_count": 29,
   "metadata": {},
   "outputs": [],
   "source": [
    "new_model = Sequential()\n",
    "\n",
    "# Add the convolutional part of the VGG16 model from above.\n",
    "new_model.add(vgg_model)\n",
    "\n",
    "# Flatten the output of the VGG16 model because it is from a\n",
    "# convolutional layer.\n",
    "new_model.add(Flatten())\n",
    "\n",
    "# Add a dropout-layer which may prevent overfitting and\n",
    "# improve generalization ability to unseen data e.g. the test-set.\n",
    "new_model.add(Dropout(0.5))\n",
    "\n",
    "# Add a dense (aka. fully-connected) layer.\n",
    "# This is for combining features that the VGG16 model has\n",
    "# recognized in the image.\n",
    "new_model.add(Dense(1024, activation='relu'))\n",
    "\n",
    "# Add a dropout-layer which may prevent overfitting and\n",
    "# improve generalization ability to unseen data e.g. the test-set.\n",
    "new_model.add(Dropout(0.5))\n",
    "\n",
    "# Add a dense (aka. fully-connected) layer.\n",
    "# This is for combining features that the VGG16 model has\n",
    "# recognized in the image.\n",
    "new_model.add(Dense(512, activation='relu'))\n",
    "\n",
    "# Add a dropout-layer which may prevent overfitting and\n",
    "# improve generalization ability to unseen data e.g. the test-set.\n",
    "new_model.add(Dropout(0.5))\n",
    "\n",
    "# Add a dense (aka. fully-connected) layer.\n",
    "# This is for combining features that the VGG16 model has\n",
    "# recognized in the image.\n",
    "new_model.add(Dense(256, activation='relu'))\n",
    "\n",
    "# Add a dense (aka. fully-connected) layer.\n",
    "# Change the activation function to sigmoid \n",
    "# so output of the last layer is in the range of [0,1] \n",
    "new_model.add(Dense(1, activation='sigmoid'))"
   ]
  },
  {
   "cell_type": "code",
   "execution_count": 30,
   "metadata": {},
   "outputs": [],
   "source": [
    "new_model.compile(optimizer=optimizer, loss=loss, metrics=metrics)"
   ]
  },
  {
   "cell_type": "code",
   "execution_count": 31,
   "metadata": {},
   "outputs": [
    {
     "name": "stdout",
     "output_type": "stream",
     "text": [
      "Epoch 1/5\n",
      "3/3 [==============================] - 20s 7s/step - loss: 0.8258 - binary_accuracy: 0.5000 - val_loss: 0.6835 - val_binary_accuracy: 0.5000\n",
      "Epoch 2/5\n",
      "3/3 [==============================] - 19s 6s/step - loss: 0.6872 - binary_accuracy: 0.6000 - val_loss: 0.7407 - val_binary_accuracy: 0.5000\n",
      "Epoch 3/5\n",
      "3/3 [==============================] - 19s 6s/step - loss: 0.8648 - binary_accuracy: 0.5500 - val_loss: 0.8966 - val_binary_accuracy: 0.5000\n",
      "Epoch 4/5\n",
      "3/3 [==============================] - 19s 6s/step - loss: 0.8387 - binary_accuracy: 0.4000 - val_loss: 0.7478 - val_binary_accuracy: 0.5000\n",
      "Epoch 5/5\n",
      "3/3 [==============================] - 18s 6s/step - loss: 0.5644 - binary_accuracy: 0.7500 - val_loss: 0.6587 - val_binary_accuracy: 0.6667\n"
     ]
    },
    {
     "data": {
      "text/plain": [
       "<keras.callbacks.callbacks.History at 0x7f7a4a1aad50>"
      ]
     },
     "execution_count": 31,
     "metadata": {},
     "output_type": "execute_result"
    }
   ],
   "source": [
    "new_model.fit_generator(train_gen, \n",
    "                                  validation_data = (testX, testY), \n",
    "                                  epochs = 5)"
   ]
  },
  {
   "cell_type": "markdown",
   "metadata": {},
   "source": [
    "## Fourth try"
   ]
  },
  {
   "cell_type": "code",
   "execution_count": 35,
   "metadata": {},
   "outputs": [],
   "source": [
    "new_model = Sequential()\n",
    "\n",
    "# Add the convolutional part of the VGG16 model from above.\n",
    "new_model.add(vgg_model)\n",
    "\n",
    "# Flatten the output of the VGG16 model because it is from a\n",
    "# convolutional layer.\n",
    "new_model.add(Flatten())\n",
    "\n",
    "# Add several fully-connected layers with dropout\n",
    "##### Your code here ######\n",
    "new_model.add(Dropout(0.5))\n",
    "new_model.add(Dense(1024, activation='relu'))\n",
    "new_model.add(Dropout(0.5))\n",
    "new_model.add(Dense(512, activation='relu'))\n",
    "new_model.add(Dropout(0.5))\n",
    "new_model.add(Dense(256, activation='relu'))\n",
    "new_model.add(Dropout(0.5))\n",
    "new_model.add(Dense(128, activation='relu'))\n",
    "new_model.add(Dropout(0.5))\n",
    "\n",
    "# Final output layer\n",
    "new_model.add(Dense(1, activation='sigmoid'))"
   ]
  },
  {
   "cell_type": "code",
   "execution_count": 36,
   "metadata": {},
   "outputs": [],
   "source": [
    "new_model.compile(optimizer=optimizer, loss=loss, metrics=metrics)"
   ]
  },
  {
   "cell_type": "code",
   "execution_count": 37,
   "metadata": {},
   "outputs": [
    {
     "name": "stdout",
     "output_type": "stream",
     "text": [
      "Epoch 1/5\n",
      "3/3 [==============================] - 20s 7s/step - loss: 0.9030 - binary_accuracy: 0.6500 - val_loss: 0.6823 - val_binary_accuracy: 0.6667\n",
      "Epoch 2/5\n",
      "3/3 [==============================] - 19s 6s/step - loss: 1.4039 - binary_accuracy: 0.4500 - val_loss: 0.6849 - val_binary_accuracy: 0.8333\n",
      "Epoch 3/5\n",
      "3/3 [==============================] - 19s 6s/step - loss: 1.2579 - binary_accuracy: 0.6000 - val_loss: 0.6811 - val_binary_accuracy: 0.6667\n",
      "Epoch 4/5\n",
      "3/3 [==============================] - 19s 6s/step - loss: 1.2347 - binary_accuracy: 0.5500 - val_loss: 0.6745 - val_binary_accuracy: 0.8333\n",
      "Epoch 5/5\n",
      "3/3 [==============================] - 19s 6s/step - loss: 1.5407 - binary_accuracy: 0.4500 - val_loss: 0.6638 - val_binary_accuracy: 0.5000\n"
     ]
    },
    {
     "data": {
      "text/plain": [
       "<keras.callbacks.callbacks.History at 0x7f7a49f3d410>"
      ]
     },
     "execution_count": 37,
     "metadata": {},
     "output_type": "execute_result"
    }
   ],
   "source": [
    "## Just run a single epoch to see how it does:\n",
    "new_model.fit_generator(train_gen, \n",
    "                                  validation_data = (testX, testY), \n",
    "                                  epochs = 5)"
   ]
  }
 ],
 "metadata": {
  "kernelspec": {
   "display_name": "Python 3",
   "language": "python",
   "name": "python3"
  },
  "language_info": {
   "codemirror_mode": {
    "name": "ipython",
    "version": 3
   },
   "file_extension": ".py",
   "mimetype": "text/x-python",
   "name": "python",
   "nbconvert_exporter": "python",
   "pygments_lexer": "ipython3",
   "version": "3.7.6"
  }
 },
 "nbformat": 4,
 "nbformat_minor": 2
}
